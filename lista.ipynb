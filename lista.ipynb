{
 "cells": [
  {
   "cell_type": "markdown",
   "id": "33ba9397",
   "metadata": {},
   "source": [
    "# Listas 🗂️"
   ]
  },
  {
   "cell_type": "code",
   "execution_count": 49,
   "id": "ac859c01",
   "metadata": {},
   "outputs": [],
   "source": [
    "#Criação de Listas\n",
    "lista1 = [1, \"a\", 2, 3]\n",
    "b = [1,2,3,4,5,6]"
   ]
  },
  {
   "cell_type": "code",
   "execution_count": 50,
   "id": "f188df68",
   "metadata": {},
   "outputs": [
    {
     "name": "stdout",
     "output_type": "stream",
     "text": [
      "[1, 'a', 2, 3]\n",
      "[1, 2, 3, 4, 5, 6]\n"
     ]
    }
   ],
   "source": [
    "print(lista1)\n",
    "print(b) "
   ]
  },
  {
   "cell_type": "code",
   "execution_count": 51,
   "id": "2b59ac0d",
   "metadata": {},
   "outputs": [
    {
     "name": "stdout",
     "output_type": "stream",
     "text": [
      "1\n",
      "3\n"
     ]
    }
   ],
   "source": [
    "#Acessar elemenentos da lista\n",
    "\n",
    "print(lista1[0])\n",
    "print(b[2])"
   ]
  },
  {
   "cell_type": "code",
   "execution_count": 52,
   "id": "d4f74e91",
   "metadata": {},
   "outputs": [
    {
     "name": "stdout",
     "output_type": "stream",
     "text": [
      "[1, 2, 15, 4, 5, 6]\n"
     ]
    }
   ],
   "source": [
    "#Modificando elemento da lista\n",
    "b[2]=15\n",
    "#Verificando a nova lista b\n",
    "print(b)"
   ]
  },
  {
   "cell_type": "markdown",
   "id": "9c45515c",
   "metadata": {},
   "source": [
    "## Ordenação de listas 😎"
   ]
  },
  {
   "cell_type": "code",
   "execution_count": 61,
   "id": "c510afff",
   "metadata": {
    "scrolled": true
   },
   "outputs": [
    {
     "name": "stdout",
     "output_type": "stream",
     "text": [
      "[1, 2, 4, 5, 6, 15]\n"
     ]
    }
   ],
   "source": [
    "#Ordenando a lista b\n",
    "\n",
    "c = sorted(b)\n",
    "\n",
    "print(c)"
   ]
  },
  {
   "cell_type": "code",
   "execution_count": 74,
   "id": "62aa7139",
   "metadata": {
    "scrolled": false
   },
   "outputs": [
    {
     "name": "stdout",
     "output_type": "stream",
     "text": [
      "[1, 2, 4, 5, 6, 15]\n"
     ]
    }
   ],
   "source": [
    "#Usando o Método sort\n",
    "b.sort()\n",
    "\n",
    "print(b)"
   ]
  },
  {
   "cell_type": "code",
   "execution_count": 72,
   "id": "7081a0b0",
   "metadata": {},
   "outputs": [],
   "source": [
    "e = [2,13,6,1,9]"
   ]
  },
  {
   "cell_type": "code",
   "execution_count": 75,
   "id": "448c351e",
   "metadata": {},
   "outputs": [
    {
     "name": "stdout",
     "output_type": "stream",
     "text": [
      "[1, 2, 6, 9, 13]\n"
     ]
    }
   ],
   "source": [
    "e.sort()\n",
    "print(e)"
   ]
  },
  {
   "cell_type": "code",
   "execution_count": null,
   "id": "f37e158b",
   "metadata": {},
   "outputs": [],
   "source": [
    "\n"
   ]
  },
  {
   "cell_type": "code",
   "execution_count": null,
   "id": "248b4ad9",
   "metadata": {},
   "outputs": [],
   "source": []
  }
 ],
 "metadata": {
  "kernelspec": {
   "display_name": "Python 3 (ipykernel)",
   "language": "python",
   "name": "python3"
  },
  "language_info": {
   "codemirror_mode": {
    "name": "ipython",
    "version": 3
   },
   "file_extension": ".py",
   "mimetype": "text/x-python",
   "name": "python",
   "nbconvert_exporter": "python",
   "pygments_lexer": "ipython3",
   "version": "3.10.9"
  }
 },
 "nbformat": 4,
 "nbformat_minor": 5
}
